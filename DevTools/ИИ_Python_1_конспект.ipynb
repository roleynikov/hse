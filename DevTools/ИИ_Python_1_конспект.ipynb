{
  "nbformat": 4,
  "nbformat_minor": 0,
  "metadata": {
    "colab": {
      "provenance": []
    },
    "kernelspec": {
      "name": "python3",
      "display_name": "Python 3"
    },
    "language_info": {
      "name": "python"
    }
  },
  "cells": [
    {
      "cell_type": "markdown",
      "source": [
        "### Вспоминаем генераторы"
      ],
      "metadata": {
        "id": "8h5uMC56VRha"
      }
    },
    {
      "cell_type": "code",
      "source": [
        "def generate_fib(max_number):\n",
        "    fib_1, fib_2 = 1, 1\n",
        "    yield fib_1\n",
        "    yield fib_2\n",
        "\n",
        "    for i in range(2, max_number):\n",
        "        fib_1, fib_2 = fib_2, fib_1 + fib_2\n",
        "        yield fib_2\n",
        "\n",
        "fibs = generate_fib(10)\n",
        "\n",
        "print(next(fibs))\n",
        "print(next(fibs))\n",
        "print(next(fibs))\n",
        "print(next(fibs))\n"
      ],
      "metadata": {
        "colab": {
          "base_uri": "https://localhost:8080/"
        },
        "id": "6JtnE7X8VRNy",
        "outputId": "59de752b-9787-4d45-ca99-76d74eb9a9e7"
      },
      "execution_count": null,
      "outputs": [
        {
          "output_type": "stream",
          "name": "stdout",
          "text": [
            "1\n",
            "1\n",
            "2\n",
            "3\n"
          ]
        }
      ]
    },
    {
      "cell_type": "code",
      "execution_count": null,
      "metadata": {
        "colab": {
          "base_uri": "https://localhost:8080/"
        },
        "id": "dwsmYDzDUPwe",
        "outputId": "7eb7a5fc-1e3e-4dcb-cbf1-b915ef61b064"
      },
      "outputs": [
        {
          "output_type": "stream",
          "name": "stdout",
          "text": [
            "1\n",
            "1\n",
            "2\n",
            "3\n",
            "5\n",
            "8\n",
            "13\n",
            "21\n",
            "34\n",
            "55\n",
            "----------\n"
          ]
        }
      ],
      "source": [
        "fibs = generate_fib(10)\n",
        "for x in fibs:\n",
        "    print(x)\n",
        "print('-'*10)\n",
        "for x in fibs:\n",
        "    print(x)"
      ]
    },
    {
      "cell_type": "markdown",
      "source": [
        "Кстати, а как вернуть значение из генератора?"
      ],
      "metadata": {
        "id": "En7YusL2Zh5y"
      }
    },
    {
      "cell_type": "code",
      "source": [
        "next(fibs)"
      ],
      "metadata": {
        "colab": {
          "base_uri": "https://localhost:8080/"
        },
        "id": "cP3uYKeDVbeg",
        "outputId": "8184198e-2308-4484-a6a9-e330e3f77f19"
      },
      "execution_count": null,
      "outputs": [
        {
          "output_type": "error",
          "ename": "StopIteration",
          "evalue": "",
          "traceback": [
            "\u001b[0;31m---------------------------------------------------------------------------\u001b[0m",
            "\u001b[0;31mStopIteration\u001b[0m                             Traceback (most recent call last)",
            "\u001b[0;32m<ipython-input-8-d1c2812c56a1>\u001b[0m in \u001b[0;36m<cell line: 1>\u001b[0;34m()\u001b[0m\n\u001b[0;32m----> 1\u001b[0;31m \u001b[0mnext\u001b[0m\u001b[0;34m(\u001b[0m\u001b[0mfibs\u001b[0m\u001b[0;34m)\u001b[0m\u001b[0;34m\u001b[0m\u001b[0;34m\u001b[0m\u001b[0m\n\u001b[0m",
            "\u001b[0;31mStopIteration\u001b[0m: "
          ]
        }
      ]
    },
    {
      "cell_type": "code",
      "source": [
        "def generate_fib(max_number):\n",
        "    fib_1, fib_2 = 1, 1\n",
        "    yield fib_1\n",
        "    yield fib_2\n",
        "\n",
        "    return 4\n",
        "\n",
        "fibs = generate_fib(10)\n",
        "for x in fibs:\n",
        "    print(x)"
      ],
      "metadata": {
        "colab": {
          "base_uri": "https://localhost:8080/"
        },
        "id": "bIa4MbnrZlTO",
        "outputId": "1baefd69-1b24-4879-8c66-dd62bb9936f7"
      },
      "execution_count": null,
      "outputs": [
        {
          "output_type": "stream",
          "name": "stdout",
          "text": [
            "1\n",
            "1\n"
          ]
        }
      ]
    },
    {
      "cell_type": "code",
      "source": [
        "next(fibs)"
      ],
      "metadata": {
        "colab": {
          "base_uri": "https://localhost:8080/"
        },
        "id": "CIfpCCY9Zfkv",
        "outputId": "85cd975d-124d-4c1d-c859-957bc94baa3b"
      },
      "execution_count": null,
      "outputs": [
        {
          "output_type": "error",
          "ename": "StopIteration",
          "evalue": "",
          "traceback": [
            "\u001b[0;31m---------------------------------------------------------------------------\u001b[0m",
            "\u001b[0;31mStopIteration\u001b[0m                             Traceback (most recent call last)",
            "\u001b[0;32m<ipython-input-10-d1c2812c56a1>\u001b[0m in \u001b[0;36m<cell line: 1>\u001b[0;34m()\u001b[0m\n\u001b[0;32m----> 1\u001b[0;31m \u001b[0mnext\u001b[0m\u001b[0;34m(\u001b[0m\u001b[0mfibs\u001b[0m\u001b[0;34m)\u001b[0m\u001b[0;34m\u001b[0m\u001b[0;34m\u001b[0m\u001b[0m\n\u001b[0m",
            "\u001b[0;31mStopIteration\u001b[0m: "
          ]
        }
      ]
    },
    {
      "cell_type": "code",
      "source": [
        "def generate_fib(max_number):\n",
        "    fib_1, fib_2 = 1, 1\n",
        "    yield fib_1\n",
        "    yield fib_2\n",
        "\n",
        "    return 4\n",
        "\n",
        "fibs = generate_fib(10)\n",
        "\n",
        "try:\n",
        "    for x in fibs:\n",
        "        print(x)\n",
        "except StopIteration as e:\n",
        "    print(\"Return value:\", e.value)\n"
      ],
      "metadata": {
        "colab": {
          "base_uri": "https://localhost:8080/"
        },
        "id": "QwMl-agCZtEa",
        "outputId": "d69dce2a-91a8-4114-e356-fb7616c717f1"
      },
      "execution_count": null,
      "outputs": [
        {
          "output_type": "stream",
          "name": "stdout",
          "text": [
            "1\n",
            "1\n"
          ]
        }
      ]
    },
    {
      "cell_type": "code",
      "source": [
        "def generate_fib(max_number):\n",
        "    fib_1, fib_2 = 1, 1\n",
        "    yield fib_1\n",
        "    yield fib_2\n",
        "\n",
        "    return 4\n",
        "\n",
        "fibs = generate_fib(10)\n",
        "\n",
        "while True:\n",
        "    try:\n",
        "        value = next(fibs)\n",
        "        print(value)\n",
        "    except StopIteration as e:\n",
        "        print(\"Return value:\", e.value)  # Выводим значение return\n",
        "        break\n"
      ],
      "metadata": {
        "colab": {
          "base_uri": "https://localhost:8080/"
        },
        "id": "MsPBMQE3Zyx-",
        "outputId": "7dbbc1ca-abd4-4ffe-ba50-2fc4a578376e"
      },
      "execution_count": null,
      "outputs": [
        {
          "output_type": "stream",
          "name": "stdout",
          "text": [
            "1\n",
            "1\n",
            "Return value: 4\n"
          ]
        }
      ]
    },
    {
      "cell_type": "markdown",
      "source": [
        "### Генераторы как корутины\n",
        "\n",
        "Генераторы можно использовать как корутины, которые могут не только возвращать значения, но и принимать их. Это стало основой для использования генераторов в асинхронных сценариях.\n",
        "\n"
      ],
      "metadata": {
        "id": "BEwDniqMaaE3"
      }
    },
    {
      "cell_type": "code",
      "source": [
        "def coroutine():\n",
        "    print(\"Start\")\n",
        "    value = yield\n",
        "    print(f\"Received: {value}\")\n",
        "    yield \"Done\"\n",
        "\n",
        "coro = coroutine()\n",
        "\n",
        "next(coro)\n",
        "\n",
        "coro.send(\"Hello\")\n"
      ],
      "metadata": {
        "colab": {
          "base_uri": "https://localhost:8080/",
          "height": 71
        },
        "id": "HhLsO7WgaFzN",
        "outputId": "3c2fb112-8296-49c3-bf5f-24ac8cefffc9"
      },
      "execution_count": null,
      "outputs": [
        {
          "output_type": "stream",
          "name": "stdout",
          "text": [
            "Start\n",
            "Received: Hello\n"
          ]
        },
        {
          "output_type": "execute_result",
          "data": {
            "text/plain": [
              "'Done'"
            ],
            "application/vnd.google.colaboratory.intrinsic+json": {
              "type": "string"
            }
          },
          "metadata": {},
          "execution_count": 17
        }
      ]
    },
    {
      "cell_type": "markdown",
      "source": [
        "Чуть более сложный пример с циклом внутри"
      ],
      "metadata": {
        "id": "3tsfV6Uwa66V"
      }
    },
    {
      "cell_type": "code",
      "source": [
        "def running_total():\n",
        "    total = 0\n",
        "    while True:\n",
        "        number = yield total\n",
        "        if number is None:\n",
        "            break\n",
        "        total += number\n",
        "    return total\n",
        "\n",
        "gen = running_total()\n",
        "\n",
        "next(gen)\n",
        "\n",
        "print(gen.send(5))\n",
        "print(gen.send(10))\n",
        "print(gen.send(3))\n",
        "\n",
        "gen.send(None)\n"
      ],
      "metadata": {
        "colab": {
          "base_uri": "https://localhost:8080/",
          "height": 233
        },
        "id": "UITHBGy3aht3",
        "outputId": "f9bb5498-b5ef-46ec-aa70-7fa0943b1083"
      },
      "execution_count": null,
      "outputs": [
        {
          "output_type": "stream",
          "name": "stdout",
          "text": [
            "105\n",
            "115\n",
            "118\n"
          ]
        },
        {
          "output_type": "error",
          "ename": "StopIteration",
          "evalue": "",
          "traceback": [
            "\u001b[0;31m---------------------------------------------------------------------------\u001b[0m",
            "\u001b[0;31mStopIteration\u001b[0m                             Traceback (most recent call last)",
            "\u001b[0;32m<ipython-input-18-224f3e63082d>\u001b[0m in \u001b[0;36m<cell line: 17>\u001b[0;34m()\u001b[0m\n\u001b[1;32m     15\u001b[0m \u001b[0mprint\u001b[0m\u001b[0;34m(\u001b[0m\u001b[0mgen\u001b[0m\u001b[0;34m.\u001b[0m\u001b[0msend\u001b[0m\u001b[0;34m(\u001b[0m\u001b[0;36m3\u001b[0m\u001b[0;34m)\u001b[0m\u001b[0;34m)\u001b[0m\u001b[0;34m\u001b[0m\u001b[0;34m\u001b[0m\u001b[0m\n\u001b[1;32m     16\u001b[0m \u001b[0;34m\u001b[0m\u001b[0m\n\u001b[0;32m---> 17\u001b[0;31m \u001b[0mgen\u001b[0m\u001b[0;34m.\u001b[0m\u001b[0msend\u001b[0m\u001b[0;34m(\u001b[0m\u001b[0;32mNone\u001b[0m\u001b[0;34m)\u001b[0m\u001b[0;34m\u001b[0m\u001b[0;34m\u001b[0m\u001b[0m\n\u001b[0m",
            "\u001b[0;31mStopIteration\u001b[0m: "
          ]
        }
      ]
    },
    {
      "cell_type": "markdown",
      "source": [
        "В этом примере генератор аккумулирует суммы, принимая данные через `send()`. Такой подход можно использовать для отслеживания состояния в течение выполнения, что напоминает принципы асинхронного программирования, где состояния задач могут изменяться во времени.\n",
        "\n"
      ],
      "metadata": {
        "id": "jsxFoeN2bFDP"
      }
    },
    {
      "cell_type": "markdown",
      "source": [
        "Более сложный пример с обработкой исключений в генераторах:"
      ],
      "metadata": {
        "id": "ndrBWmCbbH-t"
      }
    },
    {
      "cell_type": "code",
      "source": [
        "def exception_handling_coroutine():\n",
        "    print(\"Starting coroutine\")\n",
        "    try:\n",
        "        while True:\n",
        "            try:\n",
        "                value = yield\n",
        "            except ValueError:\n",
        "                print(\"ValueError caught inside coroutine!\")\n",
        "            else:\n",
        "                print(f\"Received value: {value}\")\n",
        "    finally:\n",
        "        print(\"Coroutine terminating\")\n",
        "\n",
        "coro = exception_handling_coroutine()\n",
        "next(coro)\n",
        "\n",
        "coro.send(10)\n",
        "coro.send(20)\n",
        "\n",
        "coro.throw(ValueError)\n",
        "\n",
        "coro.close()\n"
      ],
      "metadata": {
        "colab": {
          "base_uri": "https://localhost:8080/"
        },
        "id": "yfCjyQkIay7a",
        "outputId": "e0f4fd37-2b05-46bb-89c0-182e64c072f0"
      },
      "execution_count": null,
      "outputs": [
        {
          "output_type": "stream",
          "name": "stdout",
          "text": [
            "Starting coroutine\n",
            "Received value: 10\n",
            "Received value: 20\n",
            "ValueError caught inside coroutine!\n",
            "Coroutine terminating\n"
          ]
        }
      ]
    },
    {
      "cell_type": "markdown",
      "source": [
        "### yield from"
      ],
      "metadata": {
        "id": "19JeC42nbp0S"
      }
    },
    {
      "cell_type": "markdown",
      "source": [
        "Когда `yield from` применяется к подгенератору, он последовательно возвращает все значения этого подгенератора в внешний генератор.\n"
      ],
      "metadata": {
        "id": "CFkkbMj7bv9X"
      }
    },
    {
      "cell_type": "code",
      "source": [
        "def accumulator():\n",
        "    total = 0\n",
        "    for i in range(3):\n",
        "        total += i\n",
        "        yield i\n",
        "    return total\n",
        "\n",
        "def main_generator():\n",
        "    result = yield from accumulator()\n",
        "    print(\"Accumulated total:\", result)\n",
        "\n",
        "for value in main_generator():\n",
        "    print(\"Yielded:\", value)\n"
      ],
      "metadata": {
        "colab": {
          "base_uri": "https://localhost:8080/"
        },
        "id": "Nx64kvrvcFTf",
        "outputId": "fd15f644-51f7-457d-afc5-d144f159e447"
      },
      "execution_count": null,
      "outputs": [
        {
          "output_type": "stream",
          "name": "stdout",
          "text": [
            "Yielded: 0\n",
            "Yielded: 1\n",
            "Yielded: 2\n",
            "Accumulated total: 3\n"
          ]
        }
      ]
    },
    {
      "cell_type": "markdown",
      "source": [
        "Более сложный пример с несколькими подгенераторами"
      ],
      "metadata": {
        "id": "fui_nCencYak"
      }
    },
    {
      "cell_type": "code",
      "source": [
        "def numbers():\n",
        "    yield 1\n",
        "    yield 2\n",
        "    yield 3\n",
        "    return \"Numbers done\"\n",
        "\n",
        "def letters():\n",
        "    yield 'A'\n",
        "    yield 'B'\n",
        "    yield 'C'\n",
        "    return \"Letters done\"\n",
        "\n",
        "def main_generator():\n",
        "    result1 = yield from numbers()\n",
        "    print(\"First subgenerator result:\", result1)\n",
        "\n",
        "    result2 = yield from letters()\n",
        "    print(\"Second subgenerator result:\", result2)\n",
        "\n",
        "    return \"All subgenerators done\"\n",
        "\n",
        "for value in main_generator():\n",
        "    print(\"Yielded:\", value)\n"
      ],
      "metadata": {
        "colab": {
          "base_uri": "https://localhost:8080/"
        },
        "id": "mr0FOy6Ybu6f",
        "outputId": "4bc6932a-3a4b-4aa3-d2f0-a17c7cd3a723"
      },
      "execution_count": null,
      "outputs": [
        {
          "output_type": "stream",
          "name": "stdout",
          "text": [
            "Yielded: 1\n",
            "Yielded: 2\n",
            "Yielded: 3\n",
            "First subgenerator result: Numbers done\n",
            "Yielded: A\n",
            "Yielded: B\n",
            "Yielded: C\n",
            "Second subgenerator result: Letters done\n"
          ]
        }
      ]
    },
    {
      "cell_type": "markdown",
      "source": [
        "А теперь давайте перемешаем порядок обращения к подгенераторам!"
      ],
      "metadata": {
        "id": "Thcx8fxEcio9"
      }
    },
    {
      "cell_type": "code",
      "source": [
        "def numbers():\n",
        "    yield 1\n",
        "    yield 2\n",
        "    yield 3\n",
        "    yield 4\n",
        "    return \"Numbers done\"\n",
        "\n",
        "def letters():\n",
        "    yield 'A'\n",
        "    yield 'B'\n",
        "    yield 'C'\n",
        "    return \"Letters done\"\n",
        "\n",
        "\n",
        "def interleaved_generator():\n",
        "    gens = [numbers(), letters()]\n",
        "    results = []\n",
        "\n",
        "    while gens:\n",
        "        for gen in gens.copy():\n",
        "            try:\n",
        "                value = next(gen)\n",
        "                yield value\n",
        "            except StopIteration as e:\n",
        "                results.append(e.value)\n",
        "                gens.remove(gen)\n",
        "\n",
        "    for i, result in enumerate(results, start=1):\n",
        "        print(f\"Subgenerator {i} result:\", result)\n",
        "\n",
        "for value in interleaved_generator():\n",
        "    print(\"Yielded:\", value)\n"
      ],
      "metadata": {
        "colab": {
          "base_uri": "https://localhost:8080/"
        },
        "id": "jru7rhY1bNZb",
        "outputId": "34b15a63-ed15-4049-b961-c027bfe0b0c3"
      },
      "execution_count": null,
      "outputs": [
        {
          "output_type": "stream",
          "name": "stdout",
          "text": [
            "Yielded: 1\n",
            "Yielded: A\n",
            "Yielded: 2\n",
            "Yielded: B\n",
            "Yielded: 3\n",
            "Yielded: C\n",
            "Yielded: 4\n",
            "Subgenerator 1 result: Letters done\n",
            "Subgenerator 2 result: Numbers done\n"
          ]
        }
      ]
    },
    {
      "cell_type": "code",
      "source": [
        "from collections import deque\n",
        "\n",
        "def numbers():\n",
        "    yield 1\n",
        "    yield 2\n",
        "    yield 3\n",
        "    yield 4\n",
        "    return \"Numbers done\"\n",
        "\n",
        "def letters():\n",
        "    yield 'A'\n",
        "    yield 'B'\n",
        "    yield 'C'\n",
        "    return \"Letters done\"\n",
        "\n",
        "def interleaved_generator():\n",
        "    gens = deque([numbers(), letters()])\n",
        "    results = []\n",
        "\n",
        "    while gens:\n",
        "        gen = gens.popleft()\n",
        "        try:\n",
        "            value = next(gen)\n",
        "            yield value\n",
        "            gens.append(gen)\n",
        "        except StopIteration as e:\n",
        "            results.append(e.value)\n",
        "\n",
        "    for i, result in enumerate(results, start=1):\n",
        "        print(f\"Subgenerator {i} result:\", result)\n",
        "\n",
        "for value in interleaved_generator():\n",
        "    print(\"Yielded:\", value)\n"
      ],
      "metadata": {
        "colab": {
          "base_uri": "https://localhost:8080/"
        },
        "id": "7WLmqli3chUS",
        "outputId": "b23c3498-d581-4d1a-b82f-226f881e00ab"
      },
      "execution_count": null,
      "outputs": [
        {
          "output_type": "stream",
          "name": "stdout",
          "text": [
            "Yielded: 1\n",
            "Yielded: A\n",
            "Yielded: 2\n",
            "Yielded: B\n",
            "Yielded: 3\n",
            "Yielded: C\n",
            "Yielded: 4\n",
            "Subgenerator 1 result: Letters done\n",
            "Subgenerator 2 result: Numbers done\n"
          ]
        }
      ]
    },
    {
      "cell_type": "markdown",
      "source": [
        "## Теория асинхронности и ее задачи"
      ],
      "metadata": {
        "id": "DrxNZsZtdL3S"
      }
    },
    {
      "cell_type": "markdown",
      "source": [
        "### Введение в асинхронность\n",
        "\n",
        "Асинхронное программирование — это парадигма разработки, позволяющая выполнять несколько задач одновременно, не блокируя основное приложение. Это особенно полезно в задачах, где программа часто ожидает завершения операций ввода-вывода, таких как:\n",
        "- Загрузка данных из интернета,\n",
        "- Чтение и запись файлов,\n",
        "- Взаимодействие с базами данных.\n",
        "\n",
        "Асинхронное программирование помогает организовать выполнение так, чтобы задачи могли переключаться между состояниями ожидания и активного выполнения, что позволяет повысить производительность и использовать доступные ресурсы."
      ],
      "metadata": {
        "id": "IXgJW8-TfaN3"
      }
    },
    {
      "cell_type": "markdown",
      "source": [
        "#### Асинхронность vs многопоточность vs многопроцессность\n",
        "\n",
        "Асинхронность отличается от других подходов к параллельности:\n",
        "\n",
        "1. **Асинхронность**:\n",
        "   - Использует одну операционную систему или один поток, переключая задачи между состоянием ожидания и выполнения.\n",
        "   - Применяется для I/O-bound задач, где большая часть времени уходит на ожидание данных от внешних систем.\n",
        "\n",
        "2. **Многопоточность**:\n",
        "   - Позволяет программе запускать несколько потоков одновременно. Каждый поток — это отдельный путь выполнения внутри одного процесса.\n",
        "   - Подходит для задач с параллельным выполнением, но в Python многопоточность ограничена **Global Interpreter Lock (GIL)**, который не позволяет исполнять Python-код параллельно на нескольких ядрах процессора.\n",
        "   \n",
        "3. **Многопроцессность**:\n",
        "   - Включает запуск нескольких процессов, каждый из которых имеет собственный интерпретатор Python, что позволяет исполнять код параллельно.\n",
        "   - Многопроцессность обходит ограничения GIL и используется для CPU-bound задач (интенсивных по вычислениям).\n"
      ],
      "metadata": {
        "id": "OE1F4aMEfh44"
      }
    },
    {
      "cell_type": "markdown",
      "source": [
        "\n",
        "#### Примеры из жизни\n",
        "\n",
        "Чтобы лучше понять, чем асинхронность отличается от других способов многозадачности, представьте несколько сценариев.\n",
        "\n",
        "1. **Асинхронность как планировщик задач на вечеринке**:\n",
        "   - Представьте вечеринку, где один человек (ассистент) обслуживает всех гостей. Каждый гость просит его что-то выполнить (налить воды, подать еду, показать путь до туалета). Вместо того чтобы оставаться с одним гостем до конца выполнения его просьбы, ассистент обходит каждого, запоминая просьбы и возвращаясь, когда у него есть время. В итоге все получают помощь, но ассистент не тратит много времени на одного человека, оставляя других без внимания.\n",
        "   - Этот подход похож на асинхронность, где цикл событий переключается между задачами, обрабатывая их по мере готовности, и не простаивает в ожидании.\n",
        "\n",
        "2. **Многопоточность как множество официантов в ресторане**:\n",
        "   - Представьте ресторан, где каждый официант обслуживает отдельный стол. У каждого официанта есть свой собственный столик, за который он отвечает, и он выполняет всю работу для него, включая прием заказа и подачу блюд.\n",
        "   - Это похоже на многопоточность, где у каждой задачи (столика) есть отдельный поток, и он полностью занят ее обслуживанием. Однако в Python есть **GIL** (глобальная блокировка интерпретатора), которая накладывает ограничения на многопоточность.\n",
        "\n",
        "3. **Многопроцессность как отдельные кухни для каждого заказа**:\n",
        "   - Представьте, что ресторан разделил каждую кухню на отдельные зоны, где готовится только один заказ. Это требует больших ресурсов (поваров, пространства), но каждый заказ выполняется без помех и параллельно.\n",
        "   - Многопроцессность работает аналогично, так как каждый процесс выполняется независимо от других. Python создает для каждого процесса отдельный интерпретатор и память, что позволяет обойти GIL и выполнять вычислительные задачи параллельно, но при этом увеличивает потребление ресурсов.\n"
      ],
      "metadata": {
        "id": "y7aQJASWhCU9"
      }
    },
    {
      "cell_type": "markdown",
      "source": [
        "### Асинхронность, многопоточность и многопроцессность: детальное сравнение\n",
        "\n",
        "\n",
        "| Характеристика            | Асинхронность                            | Многопоточность                        | Многопроцессность                        |\n",
        "|---------------------------|------------------------------------------|----------------------------------------|------------------------------------------|\n",
        "| **Подходит для**          | Задач с длительным I/O                   | Смешанных задач (I/O и CPU), но с ограничениями из-за GIL | Задач с высокой нагрузкой на CPU (CPU-bound) |\n",
        "| **Особенности реализации**| Работает в одном потоке и переключается между задачами | Создает потоки, каждый из которых работает с GIL | Создает отдельные процессы с независимыми интерпретаторами |\n",
        "| **Потребление ресурсов**  | Низкое потребление ресурсов              | Среднее потребление                    | Высокое потребление (каждый процесс требует отдельной памяти) |\n",
        "| **Использование GIL**     | Не зависит от GIL                        | Ограничен GIL                          | GIL отсутствует, так как процессы независимы |\n",
        "| **Типичная библиотека**   | `asyncio`, `aiohttp`                     | `threading`, `concurrent.futures`      | `multiprocessing`, `concurrent.futures`  |\n"
      ],
      "metadata": {
        "id": "KzVAYPiYhQff"
      }
    }
  ]
}